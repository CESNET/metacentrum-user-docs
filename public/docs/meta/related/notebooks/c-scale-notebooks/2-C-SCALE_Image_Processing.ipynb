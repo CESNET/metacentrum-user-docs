{
 "cells": [
  {
   "cell_type": "markdown",
   "id": "56f33c91-dab1-459a-8d76-0c592645cc1f",
   "metadata": {
    "tags": []
   },
   "source": [
    "# Sentinel-2 satellite image processing"
   ]
  },
  {
   "cell_type": "markdown",
   "id": "dceaac68-f734-4760-aeb6-c6c78411d6fb",
   "metadata": {},
   "source": [
    "This notebook intends to show how to locate geographical position of the downloaded satellite images using OpenStreet maps and how to clip them."
   ]
  },
  {
   "cell_type": "code",
   "execution_count": null,
   "id": "fbb46ed2-d489-4862-b856-61f411dbb48b",
   "metadata": {},
   "outputs": [],
   "source": [
    "from IPython.display import Markdown\n",
    "import rasterio\n",
    "import rasterio.plot as plot\n",
    "from rasterio.plot import show\n",
    "import os\n",
    "\n",
    "path = os.path.abspath(\"\")\n",
    "path"
   ]
  },
  {
   "cell_type": "markdown",
   "id": "d514eac6-5607-492b-9b3e-227c2d1b97b8",
   "metadata": {},
   "source": [
    "Locate the folder with the image data."
   ]
  },
  {
   "cell_type": "code",
   "execution_count": null,
   "id": "d448a3bc-ee24-4201-b4f9-bebc8ce9524f",
   "metadata": {},
   "outputs": [],
   "source": [
    "img_folder = path + '/images/jp2/' \n",
    "\n",
    "try:\n",
    "    # Attempt to access the folder\n",
    "    os.listdir(img_folder)\n",
    "    img_name = \"TCI.jp2\"\n",
    "    tci = rasterio.open(img_folder + img_name, driver='JP2OpenJPEG')\n",
    "\n",
    "except FileNotFoundError:\n",
    "    error_message = f\"**Error:** The folder '{img_folder}' does not exist. Please create the folder or provide a valid path.\"\n",
    "    display(Markdown(f\"<font color='red'>{error_message}</font>\"))\n",
    "\n",
    "except Exception as e:\n",
    "    # Handle other potential exceptions\n",
    "    print(f\"An error occurred: {e}\")"
   ]
  },
  {
   "cell_type": "markdown",
   "id": "22c4f818-9db1-414d-96c1-93038fd4f41d",
   "metadata": {},
   "source": [
    "We can show satellite image in the notebook, but be careful, it will take about 4 minutes to render!"
   ]
  },
  {
   "cell_type": "code",
   "execution_count": null,
   "id": "7fe05b93-609c-43d7-a5a8-d975ebbb4977",
   "metadata": {
    "tags": []
   },
   "outputs": [],
   "source": [
    "#%%time\n",
    "# This takes quite a long time to execute\n",
    "#show(tci)"
   ]
  },
  {
   "cell_type": "markdown",
   "id": "ede71f06-eac2-4c23-87c2-e52936f6dc49",
   "metadata": {},
   "source": [
    "## Position of selected image in OpenStreet Maps\n",
    "\n",
    "We can check whether we really downloaded satellite image data of our interest using OpenStreet maps.\n",
    "\n",
    "In order to show we need to use some predefined functions to play a little bit with the metadata and coordinates of the satellite image."
   ]
  },
  {
   "cell_type": "code",
   "execution_count": null,
   "id": "d26744fc-5d5f-4821-bf1d-357d13266366",
   "metadata": {},
   "outputs": [],
   "source": [
    "import folium\n",
    "import pandas as pd\n",
    "from rasterio import warp\n",
    "from cscale_notebooks_functions import reverse_coordinates, to_index, generate_polygon, pol_to_np, pol_to_bounding_box"
   ]
  },
  {
   "cell_type": "code",
   "execution_count": null,
   "id": "e5b53fa0-2497-41f1-931d-80308795b270",
   "metadata": {},
   "outputs": [],
   "source": [
    "# original bounds of the image\n",
    "bounds_trans_original = warp.transform_bounds(tci.crs,{'init': 'epsg:4326'},\n",
    "                                              *tci.bounds)\n",
    "\n",
    "coordinates_file = 'single_polygon_coords.csv'\n",
    "try:\n",
    "    # Read the CSV file with original coordinates into a DataFrame\n",
    "    df = pd.read_csv(coordinates_file)\n",
    "    \n",
    "    # Combine X and Y columns into a list of lists\n",
    "    coordinates_list = list(df[['X', 'Y']].values.tolist())\n",
    "\n",
    "except FileNotFoundError:\n",
    "    print(f\"The file '{coordinates_file}' with image coordinates was not found. The coordinates from TCI image have been used instead.\")\n",
    "    coordinates_list = generate_polygon(bounds_trans_original)\n",
    "\n",
    "polyline_polygon_trans_original = folium.PolyLine(reverse_coordinates(coordinates_list),\n",
    "                                                  popup=\"polygon_trans_original\",\n",
    "                                                  color=\"green\")#\"#2ca02c\")\n",
    "\n",
    "mean_lat = (bounds_trans_original[1] + bounds_trans_original[3]) / 2.0\n",
    "mean_lng = (bounds_trans_original[0] + bounds_trans_original[2]) / 2.0\n",
    "map_bb = folium.Map(location=[mean_lat-0.2,mean_lng+1.5], zoom_start=8)\n",
    "map_bb.add_child(polyline_polygon_trans_original)\n",
    "map_bb"
   ]
  },
  {
   "cell_type": "markdown",
   "id": "a7484761-7dd2-46ce-bbef-f29bbd58bfc7",
   "metadata": {},
   "source": [
    "We can now create our region of interest. Region of interested was created with [geojson.io](https://geojson.io) and we chose Prague for this case."
   ]
  },
  {
   "cell_type": "code",
   "execution_count": null,
   "id": "ec3ae5ba-7e05-4188-a038-a0fcc90da89b",
   "metadata": {
    "tags": []
   },
   "outputs": [],
   "source": [
    "import geojson\n",
    "\n",
    "gejson_file = path + \"/geojson/prague_map.geojson\"\n",
    "\n",
    "# Open geojson file with GPS coordinates\n",
    "with open(gejson_file) as f:\n",
    "    gj = geojson.load(f)\n",
    "\n",
    "# Load coordinates from geojson file\n",
    "coor = gj['features'][0]['geometry']['coordinates']\n",
    "\n",
    "k = 0\n",
    "cord = [[0] for i in range(len(coor[0]))]\n",
    "for i in range(len(coor)):\n",
    "    for j in range(len(coor[0])):\n",
    "        cord[k] = coor[i][j]\n",
    "        k += 1\n",
    "\n",
    "polyline_pol_clip = folium.PolyLine(reverse_coordinates(cord), popup=\"cord\",color=\"red\")\n",
    "\n",
    "mean_lat = (bounds_trans_original[1] + bounds_trans_original[3]) / 2.0\n",
    "mean_lng = (bounds_trans_original[0] + bounds_trans_original[2]) / 2.0\n",
    "map_bb = folium.Map(location=[mean_lat-0.2,mean_lng+1.5], zoom_start=8)\n",
    "map_bb.add_child(polyline_polygon_trans_original)\n",
    "map_bb.add_child(polyline_pol_clip)\n",
    "map_bb"
   ]
  },
  {
   "cell_type": "markdown",
   "id": "931a4c66-8b44-4b13-800a-c818de72be16",
   "metadata": {},
   "source": [
    "We can also show the region of interest within the satellite image, but we need to convert the coordinates using some predefined functions"
   ]
  },
  {
   "cell_type": "code",
   "execution_count": null,
   "id": "448b6680-77bb-4c62-8955-a3f3c11bebb4",
   "metadata": {
    "tags": []
   },
   "outputs": [],
   "source": [
    "from cscale_notebooks_functions import bbox_converter\n",
    "import geopandas as gpd\n",
    "\n",
    "geo_bbox = path + \"/geojson/bbox_map_convert.geojson\"\n",
    "bbox_converter(gejson_file,geo_bbox,32633)\n",
    "gdf = gpd.read_file(geo_bbox)"
   ]
  },
  {
   "cell_type": "markdown",
   "id": "1f81ced6-2ba2-40e1-b141-46eb01defe67",
   "metadata": {},
   "source": [
    "This takes about 4 min to execute!"
   ]
  },
  {
   "cell_type": "code",
   "execution_count": null,
   "id": "de554a96-1e25-4e2b-91f5-2627e21bc205",
   "metadata": {},
   "outputs": [],
   "source": [
    "%%time\n",
    "import matplotlib.pyplot as plt\n",
    "\n",
    "# This takes quite a long time to execute\n",
    "fig, ax = plt.subplots(figsize=(10, 8))\n",
    "show(tci,ax=ax)\n",
    "gdf.plot(ax=ax, color='red', alpha=.4, aspect=1)\n",
    "plt.show()"
   ]
  },
  {
   "cell_type": "markdown",
   "id": "150b1b2a-a685-4e4d-9223-1868f1cb79c1",
   "metadata": {},
   "source": [
    "## Insert clipped Sentinel image in OpenStreet Map"
   ]
  },
  {
   "cell_type": "code",
   "execution_count": null,
   "id": "22afdd8a-0edc-40dc-8bbb-e6f387e27ea2",
   "metadata": {},
   "outputs": [],
   "source": [
    "import pyproj\n",
    "import numpy as np\n",
    "import json\n",
    "import rasterio\n",
    "from rasterio.plot import show\n",
    "from rasterio import windows\n",
    "from matplotlib import pyplot as plt\n",
    "from cscale_notebooks_functions import clipper\n",
    "import os\n",
    "\n",
    "# Choose folder for clipped images\n",
    "path_folder = path + \"/images/clipped/\""
   ]
  },
  {
   "cell_type": "code",
   "execution_count": null,
   "id": "33eece57-7b2a-48b6-8cb2-e7cb1c0daca1",
   "metadata": {},
   "outputs": [],
   "source": [
    "if os.path.isdir(path_folder) != True:\n",
    "    os.mkdir(path_folder)\n",
    "clipper(img_folder,geo_bbox,path_folder)"
   ]
  },
  {
   "cell_type": "code",
   "execution_count": null,
   "id": "486d6eb5-4cf5-4368-bb59-efe825d7b520",
   "metadata": {},
   "outputs": [],
   "source": [
    "# Clipping images\n",
    "clip = path_folder + \"TCI.tif\"\n",
    "plt.figure(figsize=(10,8))\n",
    "clipped_img = rasterio.open(clip)\n",
    "show(clipped_img)"
   ]
  },
  {
   "cell_type": "code",
   "execution_count": null,
   "id": "04b3832a-ede6-454d-84b1-d0000bdc06d8",
   "metadata": {},
   "outputs": [],
   "source": [
    "# Read img and convert to numpy stack\n",
    "img = np.stack([clipped_img.read(i) for i in range(1,4)], axis=-1)\n",
    "\n",
    "bbox = pol_to_bounding_box(cord)\n",
    "bounds_trans = warp.transform_bounds({'init': 'epsg:4326'},clipped_img.crs,*bbox)\n",
    "pol_bounds_trans = generate_polygon(bounds_trans)\n",
    "\n",
    "bbox = pol_to_bounding_box(pol_bounds_trans)\n",
    "window_same = windows.from_bounds(*bbox,clipped_img.transform)\n",
    "transform_window = windows.transform(window_same,clipped_img.transform)\n",
    "\n",
    "transform,width,height = warp.calculate_default_transform(clipped_img.crs, {\"init\":\"epsg:4326\"},\n",
    "                                                          img.shape[1],img.shape[0],\n",
    "                                                          left=bbox[0],bottom=bbox[1],\n",
    "                                                          right=bbox[2],top=bbox[3])\n",
    "                                                          #resolution=0.002)\n",
    "\n",
    "out_array = np.ndarray((img.shape[2],height,width),dtype=img.dtype)\n",
    "\n",
    "warp.reproject(np.transpose(img,axes=(2,0,1)),\n",
    "               out_array,\n",
    "               src_crs=clipped_img.crs,\n",
    "               dst_crs={\"init\":\"epsg:4326\"},\n",
    "               src_transform=transform_window,\n",
    "               dst_transform=transform,\n",
    "               resampling=warp.Resampling.bilinear);\n",
    "\n",
    "#plt.figure(figsize=(8,8))\n",
    "#plot.show(out_array, transform=transform)\n",
    "\n",
    "bbox_clip = pol_to_bounding_box(cord)\n",
    "\n",
    "mean_lat = (bounds_trans_original[1] + bounds_trans_original[3]) / 2.0\n",
    "mean_lng = (bounds_trans_original[0] + bounds_trans_original[2]) / 2.0\n",
    "\n",
    "map_bb = folium.Map(location=[mean_lat-0.2,mean_lng+1.5], zoom_start=8)\n",
    "\n",
    "map_bb.add_child(polyline_polygon_trans_original)\n",
    "map_bb.add_child(polyline_pol_clip)\n",
    "image_overlay = folium.raster_layers.ImageOverlay(np.transpose(out_array,(1,2,0)),\n",
    "                                                  [[bbox_clip[1],\n",
    "                                                    bbox_clip[0]],\n",
    "                                                   [bbox_clip[3],\n",
    "                                                    bbox_clip[2]]])\n",
    "map_bb.add_child(image_overlay)\n",
    "map_bb"
   ]
  },
  {
   "cell_type": "code",
   "execution_count": null,
   "id": "4ac37e0c-d4f5-49b8-a696-7e9c701ddbcb",
   "metadata": {},
   "outputs": [],
   "source": []
  }
 ],
 "metadata": {
  "kernelspec": {
   "display_name": "Python 3 (ipykernel)",
   "language": "python",
   "name": "python3"
  },
  "language_info": {
   "codemirror_mode": {
    "name": "ipython",
    "version": 3
   },
   "file_extension": ".py",
   "mimetype": "text/x-python",
   "name": "python",
   "nbconvert_exporter": "python",
   "pygments_lexer": "ipython3",
   "version": "3.10.6"
  },
  "toc-autonumbering": false,
  "toc-showcode": false,
  "toc-showmarkdowntxt": false,
  "widgets": {
   "application/vnd.jupyter.widget-state+json": {
    "state": {},
    "version_major": 2,
    "version_minor": 0
   }
  }
 },
 "nbformat": 4,
 "nbformat_minor": 5
}
