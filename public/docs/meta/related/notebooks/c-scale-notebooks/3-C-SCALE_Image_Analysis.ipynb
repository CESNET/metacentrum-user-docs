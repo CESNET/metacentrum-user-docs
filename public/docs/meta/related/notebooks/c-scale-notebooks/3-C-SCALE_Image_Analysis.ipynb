{
 "cells": [
  {
   "cell_type": "markdown",
   "id": "4bc1ae33-871f-46ff-827d-80204d8fea1b",
   "metadata": {},
   "source": [
    "# Sentinel-2 satellite image analysis"
   ]
  },
  {
   "cell_type": "markdown",
   "id": "f3a13165-e31f-48a2-8183-1bf7905f8586",
   "metadata": {},
   "source": [
    "This notebook intends to show couple ideas how to analyse satellite images using different spectral bands and visualising the output. First, we narrow down our analysis for a city region."
   ]
  },
  {
   "cell_type": "code",
   "execution_count": null,
   "id": "2b0fbff3-092e-4507-92c7-a7839938a7e1",
   "metadata": {
    "tags": []
   },
   "outputs": [],
   "source": [
    "import os\n",
    "import geopandas as gpd\n",
    "import rasterio\n",
    "from rasterio.plot import show\n",
    "from cscale_notebooks_functions import load_sentinel_image, display_rgb, image_rgb, normalized_difference, plot_masked_rgb, resampling, coor_converter"
   ]
  },
  {
   "cell_type": "code",
   "execution_count": null,
   "id": "f6c905c4-dfc3-43cd-88dd-133ef4014e6f",
   "metadata": {},
   "outputs": [],
   "source": [
    "# Choose folder where are your downloaded satelite images  \n",
    "img_folder = \"/images/clipped/\"\n",
    "path = os.path.abspath(\"\")\n",
    "folder_img = path + img_folder"
   ]
  },
  {
   "cell_type": "code",
   "execution_count": null,
   "id": "419368a1-425b-4546-8850-17b2b85b4bd6",
   "metadata": {
    "tags": []
   },
   "outputs": [],
   "source": [
    "coor_converter(\"geojson/prague.geojson\",\"geojson/prague_GPScut.geojson\",32633)\n",
    "Prague_reg = \"geojson/prague_GPScut.geojson\"\n",
    "\n",
    "gdf = gpd.read_file(Prague_reg)\n",
    "rgb_tci = rasterio.open(folder_img + \"TCI.tif\")"
   ]
  },
  {
   "cell_type": "code",
   "execution_count": null,
   "id": "bee9ce30-5a4d-4b8e-80d8-af6b99f5268e",
   "metadata": {},
   "outputs": [],
   "source": [
    "import matplotlib.pyplot as plt\n",
    "\n",
    "fig, ax = plt.subplots(figsize=(10, 5))\n",
    "show(rgb_tci,ax=ax)\n",
    "gdf.plot(ax=ax, color='yellow', alpha=.3, aspect=1)\n",
    "plt.axis(\"off\")\n",
    "plt.show()"
   ]
  },
  {
   "cell_type": "code",
   "execution_count": null,
   "id": "1f554cfc-95c9-4d6e-8ccf-1412b0f94951",
   "metadata": {},
   "outputs": [],
   "source": [
    "from cscale_notebooks_functions import clipper\n",
    "#directory = \"Prague_sunny_clipped/\"\n",
    "roicut_path = path + \"/images/cut_out/\"\n",
    "if os.path.isdir(roicut_path) != True:\n",
    "    os.mkdir(roicut_path)\n",
    "\n",
    "clipper(folder_img, Prague_reg, roicut_path, whole = \"yes\")"
   ]
  },
  {
   "cell_type": "markdown",
   "id": "8b489bd0-eaa8-465e-947c-77c006a378d2",
   "metadata": {},
   "source": [
    "We can create mask for green or water areas using so called indexes, that have a higher response for areas like forrests or rivers, respectively. Setting threshold for these indexes we can display only pixels with higher value representing water area and zero value for the rest. It needs to be adjusted for different data. \n",
    "\n",
    "We can compute spectral index using different bands. In this notebook we calculate Normalized Difference (ND) index using custom function. ND index is defined as:\n",
    "\n",
    "$$ \n",
    "ND = (Band1 - Band2)/ (Band1 + Band2) \n",
    "$$\n"
   ]
  },
  {
   "cell_type": "markdown",
   "id": "0a810daa-5b7c-453d-a409-666e51b5aeaa",
   "metadata": {},
   "source": [
    "## Setting mask for green areas"
   ]
  },
  {
   "cell_type": "markdown",
   "id": "cb8f4d40-c220-463e-ad55-90aca5d42f7c",
   "metadata": {},
   "source": [
    "Value of masks needs to be adjusted."
   ]
  },
  {
   "cell_type": "code",
   "execution_count": null,
   "id": "84b53a5a-72d5-4816-baec-b17f75fa0e47",
   "metadata": {},
   "outputs": [],
   "source": [
    "import ipywidgets as widgets\n",
    "from ipywidgets import interactive\n",
    "import numpy as np\n",
    "\n",
    "img = load_sentinel_image(roicut_path, [\"B03\", \"B04\", \"B09_res\"])\n",
    "diff = normalized_difference(img,'B09_res','B03',)\n",
    "\n",
    "def greenmask(treshold):\n",
    "    green_mask = diff > treshold\n",
    "    \n",
    "    plt.figure(figsize=(10,5))\n",
    "    plt.imshow(green_mask)\n",
    "    plt.axis(\"off\")\n",
    "    plt.show()\n",
    "    return green_mask\n",
    "\n",
    "gm = interactive(greenmask, treshold = (-1.0,1.0,0.01))\n",
    "display(gm)"
   ]
  },
  {
   "cell_type": "markdown",
   "id": "5300b95c-e26d-4a1f-97d3-7c37e74c19eb",
   "metadata": {},
   "source": [
    "### Overlay image with highlighted green areas."
   ]
  },
  {
   "cell_type": "code",
   "execution_count": null,
   "id": "59d44ab4-9094-45b1-adf6-c63732d12e90",
   "metadata": {},
   "outputs": [],
   "source": [
    "img_crgb = load_sentinel_image(roicut_path, [\"B02\", \"B03\", \"B04\"])\n",
    "mask = gm.result\n",
    "shape = img_crgb['B02'].shape\n",
    "mask = mask[:shape[0], :shape[1]]\n",
    "\n",
    "mask = np.where(img_crgb['B02'] == 0, 0, mask)\n",
    " \n",
    "masked_crgb = plot_masked_rgb(red=img_crgb['B04'],\n",
    "                             green=img_crgb['B03'],\n",
    "                             blue=img_crgb['B02'],\n",
    "                             mask=mask,\n",
    "                             color_mask=(0.3, 0.7, 0),\n",
    "                             transparency=0.1,\n",
    "                             brightness=4\n",
    "                            )\n",
    "\n",
    "plt.figure(figsize=(10, 5))\n",
    "plt.imshow((masked_crgb * 255).astype(np.uint8))\n",
    "plt.axis(\"off\")\n",
    "plt.show()"
   ]
  },
  {
   "cell_type": "markdown",
   "id": "9d2d91a3-041e-44a1-9600-35c5df9cf00f",
   "metadata": {},
   "source": [
    "## Setting mask for water areas"
   ]
  },
  {
   "cell_type": "code",
   "execution_count": null,
   "id": "2f875117-547d-4433-9556-104e2fb68338",
   "metadata": {},
   "outputs": [],
   "source": [
    "img_nir2 = load_sentinel_image(roicut_path, [\"B03\", \"B04\", \"B08\"])\n",
    "\n",
    "mndwi = normalized_difference(img_nir2, 'B03', 'B08')\n",
    "\n",
    "def watermask(treshold):\n",
    "    water_mask_crgb = mndwi > treshold\n",
    "    \n",
    "    plt.figure(figsize=(10,5))\n",
    "    plt.imshow(water_mask_crgb)\n",
    "    plt.axis(\"off\")\n",
    "    plt.show()\n",
    "    return water_mask_crgb\n",
    "\n",
    "wm = interactive(watermask, treshold = (-0.5,0.5,0.01))\n",
    "display(wm)"
   ]
  },
  {
   "cell_type": "markdown",
   "id": "962ed3fc-5e74-4bca-b7bf-db89055712ba",
   "metadata": {},
   "source": [
    "## Overlay image with highlighted green and water areas."
   ]
  },
  {
   "cell_type": "code",
   "execution_count": null,
   "id": "c33a6561-d63f-4d20-b376-39118796a1a3",
   "metadata": {},
   "outputs": [],
   "source": [
    "mask = wm.result\n",
    "masked_rgb_trees = masked_crgb\n",
    "shape = masked_rgb_trees[:,:,0].shape\n",
    "mask = mask[:shape[0], :shape[1]]\n",
    "\n",
    "mask = np.where(masked_rgb_trees[:,:,0] == 0, 0, mask)\n",
    "\n",
    "masked_rgb_wt = plot_masked_rgb(masked_rgb_trees[:,:,0],masked_rgb_trees[:,:,1],masked_rgb_trees[:,:,2],\n",
    "                             mask=mask,\n",
    "                             color_mask=(0.1, 0.7, 1),\n",
    "                             transparency=0,\n",
    "                             brightness=4.\n",
    "                            )\n",
    "\n",
    "plt.figure(figsize=(10, 5))\n",
    "plt.imshow((masked_rgb_wt * 255).astype(np.uint8))\n",
    "plt.axis(\"off\")\n",
    "plt.show()"
   ]
  },
  {
   "cell_type": "markdown",
   "id": "8c80682f-18b0-4636-afb1-c6812e84c7ac",
   "metadata": {},
   "source": [
    "## Saving images into TIF file."
   ]
  },
  {
   "cell_type": "code",
   "execution_count": null,
   "id": "a432f560-fb39-4991-a585-87f3a633ebd8",
   "metadata": {},
   "outputs": [],
   "source": [
    "from PIL import Image\n",
    "img_overlay = Image.fromarray((masked_rgb_wt * 255).astype(np.uint8), \"RGB\")\n",
    "\n",
    "#Choose image name\n",
    "image_filename = \"Prague_overlay.tif\"\n",
    "\n",
    "img_overlay.save(image_filename)\n",
    "print(f\"Image has been saved to {image_filename} file\")"
   ]
  },
  {
   "cell_type": "markdown",
   "id": "a6c94643-3afb-4eaf-8bfb-9f7cc4e8180e",
   "metadata": {},
   "source": [
    "File can be loaded again using [matplotlib](https://matplotlib.org/stable/api/_as_gen/matplotlib.pyplot.imshow.html)."
   ]
  },
  {
   "cell_type": "code",
   "execution_count": null,
   "id": "e2ed0be0-ac82-4278-9cf5-74c9bba76827",
   "metadata": {},
   "outputs": [],
   "source": [
    "image_filename = \"Prague_overlay.tif\"\n",
    "img = plt.imread(image_filename)\n",
    "plt.imshow(img)"
   ]
  },
  {
   "cell_type": "code",
   "execution_count": null,
   "id": "9a7b52d1-f9af-4453-8491-246ebbd2e0a7",
   "metadata": {},
   "outputs": [],
   "source": []
  }
 ],
 "metadata": {
  "kernelspec": {
   "display_name": "Python 3 (ipykernel)",
   "language": "python",
   "name": "python3"
  },
  "language_info": {
   "codemirror_mode": {
    "name": "ipython",
    "version": 3
   },
   "file_extension": ".py",
   "mimetype": "text/x-python",
   "name": "python",
   "nbconvert_exporter": "python",
   "pygments_lexer": "ipython3",
   "version": "3.10.6"
  },
  "toc-autonumbering": false,
  "toc-showcode": false,
  "toc-showmarkdowntxt": false,
  "widgets": {
   "application/vnd.jupyter.widget-state+json": {
    "state": {},
    "version_major": 2,
    "version_minor": 0
   }
  }
 },
 "nbformat": 4,
 "nbformat_minor": 5
}
