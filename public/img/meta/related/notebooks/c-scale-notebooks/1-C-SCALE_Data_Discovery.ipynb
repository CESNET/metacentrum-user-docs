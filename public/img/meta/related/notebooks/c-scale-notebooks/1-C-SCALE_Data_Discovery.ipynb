{
 "cells": [
  {
   "cell_type": "markdown",
   "id": "0cfbc6e6-e1d8-4d8b-9949-ecbfa3c0434f",
   "metadata": {
    "tags": []
   },
   "source": [
    "# Discovering and processing Earth Observation Data with the EO-MQS"
   ]
  },
  {
   "cell_type": "markdown",
   "id": "4d90e1f7-ea55-4945-9ac9-d70425dc8002",
   "metadata": {},
   "source": [
    "The EO-MQS service is hosted within the C-SCALE federated cloud infrastructure and provides a unified way of discovering Copernicus data available within the federation by making use of the SpatioTemporal Asset Catalog (STAC) specification. The purpose of this notebook is to provide a concise introduction on how to use open-source Python libraries to search for geospatial data exposed by the EO-MQS STAC API."
   ]
  },
  {
   "cell_type": "markdown",
   "id": "5b0b4365-6795-40b5-915f-9d5d54061179",
   "metadata": {},
   "source": [
    "## Prerequisites\n",
    "\n",
    "In this example, we are going to make use of a popular STAC client for Python, the `pystac-client`. The library can be manually installed anywhere else via `pip install pystac-client`. \n",
    "Alternatively, common Python libraries like the `requests` library which support working with HTTP APIs are of course also well suited.\n",
    "\n",
    "To get started, we need to import the `Client` class to connect to the EO-MQS which exposes its STAC API under `https://mqs.eodc.eu/stac/v1`.\n",
    "\n",
    "We need to import Python libraries and some useful functions as well."
   ]
  },
  {
   "cell_type": "code",
   "execution_count": null,
   "id": "761af9ef-8f2c-4b98-bc17-f1d3513259ab",
   "metadata": {},
   "outputs": [],
   "source": [
    "pip install pystac-client==0.6.0"
   ]
  },
  {
   "cell_type": "code",
   "execution_count": null,
   "id": "45126b11-df9b-402f-ae39-50668b6f7598",
   "metadata": {},
   "outputs": [],
   "source": [
    "from pystac_client import Client\n",
    "client = Client.open(\"https://mqs.eodc.eu/stac/v1\")\n",
    "client.title"
   ]
  },
  {
   "cell_type": "markdown",
   "id": "df2d772d-a59e-4ee6-a0e8-461f113f78c2",
   "metadata": {},
   "source": [
    "## CollectionClient\n",
    "\n",
    "The client can be used to iterate through the Collections available in the EO-MQS Catalog. \n",
    "\n",
    "The `get_collections` method fetches the collections from the `/collections` endpoint and returns an iterable. To load a particular collection for further use we call the `get_collection(<collection_id>)` method below."
   ]
  },
  {
   "cell_type": "code",
   "execution_count": null,
   "id": "426474e7-993d-4f1a-9e4f-9c7251cbf6f2",
   "metadata": {
    "tags": []
   },
   "outputs": [],
   "source": [
    "for collection in client.get_collections():\n",
    "    print(collection)"
   ]
  },
  {
   "cell_type": "markdown",
   "id": "52228dbf-c4b9-4cfd-858f-92632ab3476d",
   "metadata": {},
   "source": [
    "On static as well as dynamic catalogues we can also make use of the `links` attributes which lets us quickly explore, for instance, the number of available collections."
   ]
  },
  {
   "cell_type": "code",
   "execution_count": null,
   "id": "d3a87e69-290b-48d8-9ed6-0dff3b62966b",
   "metadata": {},
   "outputs": [],
   "source": [
    "child_links = client.get_links('child')\n",
    "print(f\"The EO-MQS currently features {len(child_links)} collections.\")"
   ]
  },
  {
   "cell_type": "markdown",
   "id": "addd364d-e870-4ea7-9ffa-b736caecfad5",
   "metadata": {},
   "source": [
    "We can also check the details of particular collection."
   ]
  },
  {
   "cell_type": "code",
   "execution_count": null,
   "id": "192665f0-ae50-4d71-bc96-eea6539cabc9",
   "metadata": {},
   "outputs": [],
   "source": [
    "collection = client.get_collection(\"CollGS_CZ|sentinel-2-l1c-2023\")\n",
    "#collection = client.get_collection(\"EODC|sentinel-2-l1c\")\n",
    "collection"
   ]
  },
  {
   "cell_type": "markdown",
   "id": "6c39dd15-2b4d-4d0e-99b1-ec59fa44c8e2",
   "metadata": {},
   "source": [
    "We can use of some useful ways how to access collection metadata programmatically. "
   ]
  },
  {
   "cell_type": "code",
   "execution_count": null,
   "id": "b93789c0-eb70-483f-80e1-a44f123350fd",
   "metadata": {},
   "outputs": [],
   "source": [
    "print(f\"This collection contains data in the following temporal inteval: {collection.extent.temporal.to_dict()}\")"
   ]
  },
  {
   "cell_type": "markdown",
   "id": "253baede-1655-488f-af67-e492119e3981",
   "metadata": {},
   "source": [
    "## STAC Items\n",
    "\n",
    "Data providers that have realized their STAC implementation in terms of a dynamic STAC API offer users the opportunity to search their Catalogs using spatial and temporal constraints. The `pystac_client` enables this search via the class method `search`. This function returns an ItemSearch instance that can further be accessed to retrieve matched items.\n",
    "\n",
    "Note that in its current implementation, the EO-MQS supports the *core* STAC search endpoint parameters as described in the [STAC API - Item Search](https://github.com/radiantearth/stac-api-spec/tree/master/item-search#query-parameter-table) specification. Those are:\n",
    "- limit\n",
    "- bbox\n",
    "- datetime\n",
    "- intersects\n",
    "- ids\n",
    "- collections"
   ]
  },
  {
   "cell_type": "markdown",
   "id": "ac2a7b15-089a-4c49-baee-68929f412a4f",
   "metadata": {},
   "source": [
    "## Visualize Sentinel-2 data over EU\n",
    "\n",
    "We can use the geojson file created using [geojson.io](https://geojson.io)."
   ]
  },
  {
   "cell_type": "code",
   "execution_count": null,
   "id": "eea11e29-d92a-452f-aa2f-e395b9efb284",
   "metadata": {},
   "outputs": [],
   "source": [
    "from pystac_client import Client\n",
    "import pandas as pd\n",
    "import geopandas as gpd\n",
    "from cscale_notebooks_functions import geojson_map_eu\n",
    "import os\n",
    "client = Client.open(\"https://mqs.eodc.eu/stac/v1\")\n",
    "# This variable helps to use notebook in different environments.\n",
    "path = os.path.abspath(\"\")"
   ]
  },
  {
   "cell_type": "code",
   "execution_count": null,
   "id": "16adfbe5-08a8-46b3-a6ec-8ed98f086303",
   "metadata": {},
   "outputs": [],
   "source": [
    "# Define the absolute path for general usgae\n",
    "path = os.path.abspath(\"\")\n",
    "\n",
    "# Using geojson file for EU region\n",
    "geojson_file = path + \"/geojson/eu_wgs84.geojson\"\n",
    "aoi_eu_wgs84 = geojson_map_eu(geojson_file)\n",
    "\n",
    "# Get bbox coordinates for EU region to accelerate serach\n",
    "bbox = aoi_eu_wgs84.bounds.values.tolist()[0]\n",
    "print(bbox)"
   ]
  },
  {
   "cell_type": "markdown",
   "id": "7b8a3855-a100-46f4-9540-861edd3e2887",
   "metadata": {},
   "source": [
    "Choosing the time interval and limit for the search."
   ]
  },
  {
   "cell_type": "code",
   "execution_count": null,
   "id": "9f0f88fe-0b58-42b1-98b2-8ae8d3b05d4d",
   "metadata": {},
   "outputs": [],
   "source": [
    "time_period = \"2023-01-01/..\"\n",
    "limit = 50"
   ]
  },
  {
   "cell_type": "markdown",
   "id": "71ea0081-2022-4f95-b881-9963d40cad27",
   "metadata": {},
   "source": [
    "As before, we can use the collection client instance to iterate over the items contained in the collection. The server must provide the `/collections/<collection_id>/items` endpoint to support this feature automatically. This can be useful to manually filter items or extract information programmatically. The `get_all_items()` method again returns an iterator."
   ]
  },
  {
   "cell_type": "code",
   "execution_count": null,
   "id": "9fdaf694-be79-4bac-8b58-ba14b5a6d68e",
   "metadata": {
    "tags": []
   },
   "outputs": [],
   "source": [
    "s2_collections = []\n",
    "for collection in client.get_collections():\n",
    "    if \"l1c\" in collection.id.lower():\n",
    "        print(f\"Append collection {collection.id} to list of Sentinel-2 L1C collections.\")\n",
    "        s2_collections.append(collection.id)"
   ]
  },
  {
   "cell_type": "markdown",
   "id": "127cd5cd-402e-4a41-8e27-7768a37772e1",
   "metadata": {
    "tags": []
   },
   "source": [
    "We can check time interval of each collection. "
   ]
  },
  {
   "cell_type": "code",
   "execution_count": null,
   "id": "11551f26-d8f0-4079-b3c9-d79ad67d943b",
   "metadata": {
    "tags": []
   },
   "outputs": [],
   "source": [
    "# using format of collection in order to define new varibale with proper format.\n",
    "for i in range(0,len(s2_collections)):\n",
    "    collections_item = client.get_collection(s2_collections[i])\n",
    "    print(f\"{collections_item.id} collection contains data in the following temporal inteval: {collections_item.extent.temporal.to_dict()}\")"
   ]
  },
  {
   "cell_type": "markdown",
   "id": "4cf25e24-40dc-4d0e-b0b1-d5c6f9653502",
   "metadata": {},
   "source": [
    "We can search for the collections that contain satellite images of EU region."
   ]
  },
  {
   "cell_type": "code",
   "execution_count": null,
   "id": "6ea5f9e7-d0dd-4eb0-a810-ee53f6d372d4",
   "metadata": {},
   "outputs": [],
   "source": [
    "from IPython.display import HTML\n",
    "\n",
    "empty_df =  pd.DataFrame(columns=['Collections'])\n",
    "empty_df['geometry'] = gpd.GeoSeries([], dtype='geometry')\n",
    "empty_gdf = gpd.GeoDataFrame(empty_df, geometry='geometry')\n",
    "concatenated_gdf = empty_gdf\n",
    "\n",
    "for collection in s2_collections:\n",
    "    try:\n",
    "        results = client.search(\n",
    "            collections=[collection],\n",
    "            datetime=time_period,\n",
    "            bbox=bbox,\n",
    "            limit=limit,\n",
    "            method=\"GET\"\n",
    "        )\n",
    "        gdf_temp = gpd.GeoDataFrame.from_features(results.item_collection())\n",
    "        \n",
    "        error_message = f\"<font color='green'>Success:</font> Found items in collection id {collection}.\"\n",
    "        display(HTML(error_message))\n",
    "        #print(f\"Successful search for items in collection id {collection} .\")\n",
    "        \n",
    "        gdf_temp['Collections'] = collection\n",
    "        gdf_new = gdf_temp[['geometry','Collections']]\n",
    "        concatenated_gdf = pd.concat([concatenated_gdf, gdf_new], ignore_index=True)\n",
    "        # Add a 'collection' column to the GeoDataFrame\n",
    "        #gdfs_by_collection[collection] = gdf_temp\n",
    "    except Exception as e:\n",
    "        error_message = f\"<font color='red'>Failed:</font> items not found in collection id {collection} or failed. Error: {e}\"\n",
    "        display(HTML(error_message))\n",
    "        #print(f\"Failed search for items in collection id {collection} or no items found. Error: {e}\")"
   ]
  },
  {
   "cell_type": "code",
   "execution_count": null,
   "id": "6efec2db-198d-41bf-82be-b2b2446d8899",
   "metadata": {},
   "outputs": [],
   "source": [
    "import plotly.express as px\n",
    "\n",
    "geo_df = concatenated_gdf\n",
    "\n",
    "fig = px.choropleth_mapbox(geo_df,\n",
    "                   geojson=geo_df.geometry,\n",
    "                   locations=geo_df.index,\n",
    "                   color=\"Collections\",\n",
    "                   )\n",
    "\n",
    "fig.update_layout(\n",
    "    mapbox=dict(\n",
    "        center=dict(lat=50, lon=10),  # Set the center to EU coordinates\n",
    "        style='carto-positron',\n",
    "        zoom=2.5, # Adjust the zoom level\n",
    "    ),\n",
    "    height=800,  # Set the height of the figure\n",
    "    width=1200,  # Set the width of the figure\n",
    ")\n",
    "fig.update_traces(marker_opacity=0.3)\n",
    "fig.show()"
   ]
  },
  {
   "cell_type": "markdown",
   "id": "feb880ae-fb03-405b-8401-cc22620b6402",
   "metadata": {},
   "source": [
    "## Item Search"
   ]
  },
  {
   "cell_type": "markdown",
   "id": "2d7afd97-d335-4164-8c9c-cdd376a95f29",
   "metadata": {},
   "source": [
    "### Search for Sentinel-2 data intersecting a GeoJSON object\n",
    "\n",
    "This first example makes use of the `intersects` and the `collections` parameters. Note that you cannot specify both `bbox` and `intersects`, this will result in an error."
   ]
  },
  {
   "cell_type": "code",
   "execution_count": null,
   "id": "dc498a2e-9edb-439b-9bb5-8120f5868bbb",
   "metadata": {},
   "outputs": [],
   "source": [
    "import geopandas as gpd\n",
    "import os\n",
    "from pystac_client import Client\n",
    "client = Client.open(\"https://mqs.eodc.eu/stac/v1\")\n",
    "path = os.path.abspath(\"\")"
   ]
  },
  {
   "cell_type": "code",
   "execution_count": null,
   "id": "993daceb-87a1-4cba-86ad-99cb80f1f6a8",
   "metadata": {},
   "outputs": [],
   "source": [
    "time_period = \"2023-01-01/2023-12-31\"\n",
    "limit = 100"
   ]
  },
  {
   "cell_type": "markdown",
   "id": "53d59a72-4151-463c-90a6-ff2052e9111a",
   "metadata": {},
   "source": [
    "For this example we can use region around the city of Utrecht."
   ]
  },
  {
   "cell_type": "code",
   "execution_count": null,
   "id": "d4f77038-0d88-4641-8dd6-89e6ce1f114e",
   "metadata": {},
   "outputs": [],
   "source": [
    "import json\n",
    "with open(path + '/geojson/utrecht_map.geojson') as f:\n",
    "    geo = json.load(f)"
   ]
  },
  {
   "cell_type": "code",
   "execution_count": null,
   "id": "8918ea47-7a06-45c4-8597-60743c40755e",
   "metadata": {
    "tags": []
   },
   "outputs": [],
   "source": [
    "geom = geo['features'][0]['geometry']\n",
    "geom"
   ]
  },
  {
   "cell_type": "code",
   "execution_count": null,
   "id": "1269cfc7-a1a8-4349-81ee-4cf0446b0d58",
   "metadata": {},
   "outputs": [],
   "source": [
    "results_VITO = client.search(collections = [\"VITO|urn:eop:VITO:CGS_S2_L1C\"],\n",
    "                        intersects = geom,\n",
    "                        datetime = time_period,\n",
    "                        limit = limit,\n",
    "                        method = \"POST\")"
   ]
  },
  {
   "cell_type": "code",
   "execution_count": null,
   "id": "2d247be7-254e-4be8-89f4-e55c2b95e92b",
   "metadata": {},
   "outputs": [],
   "source": [
    "items_VITO = results_VITO.item_collection()\n",
    "\n",
    "print(f\"We found {len(items_VITO)} matching items.\")"
   ]
  },
  {
   "cell_type": "markdown",
   "id": "fb972c70-b710-4ad4-89a3-7f150dda9b43",
   "metadata": {},
   "source": [
    "We can have a look on one item that has been found in the search."
   ]
  },
  {
   "cell_type": "code",
   "execution_count": null,
   "id": "50cf8825-6b64-4534-bbe0-a2c91aadaf17",
   "metadata": {},
   "outputs": [],
   "source": [
    "import ipywidgets as widgets\n",
    "\n",
    "df = gpd.GeoDataFrame.from_features(items_VITO)\n",
    "p = widgets.Dropdown(\n",
    "    options= df.datetime,\n",
    "    description='Date:',\n",
    ")\n",
    "display(p)"
   ]
  },
  {
   "cell_type": "markdown",
   "id": "14379ad6-2dbf-49a3-857b-f32f5911761a",
   "metadata": {},
   "source": [
    "We can download a preview image of the satellite image."
   ]
  },
  {
   "cell_type": "code",
   "execution_count": null,
   "id": "8a9af705-6363-46bb-888e-f2d1f1b02735",
   "metadata": {},
   "outputs": [],
   "source": [
    "import requests\n",
    "import rasterio\n",
    "import rasterio.plot as plot\n",
    "from rasterio.plot import show\n",
    "\n",
    "url=items_VITO[df.datetime.index[df.datetime.tolist().index(p.value)]].assets['QUICKLOOK'].href\n",
    "quick_look = requests.get(url, stream=True)\n",
    "\n",
    "with open(path + '/quick.jp2', 'wb') as f:\n",
    "    f.write(quick_look.content)\n",
    "\n",
    "quick_tci = rasterio.open(path + '/quick.jp2', driver='JP2OpenJPEG');\n",
    "show(quick_tci)"
   ]
  },
  {
   "cell_type": "markdown",
   "id": "36bc5974-6575-4043-989f-c669550b345e",
   "metadata": {},
   "source": [
    "NOTE: You can always visualize STAC data (collections, items, etc.) in external tools like the STAC Browser, for instance do the following:"
   ]
  },
  {
   "cell_type": "code",
   "execution_count": null,
   "id": "46bb33dc-2cd0-46ba-b452-c6ce6aa4961e",
   "metadata": {},
   "outputs": [],
   "source": [
    "print(f\"Look at this item in the STAC Browser:https://radiantearth.github.io/stac-browser/#/external/{items_VITO[df.datetime.index[df.datetime.tolist().index(p.value)]].get_self_href()}\")"
   ]
  },
  {
   "cell_type": "code",
   "execution_count": null,
   "id": "3a310293-bde5-4a11-bd35-57cdeddfef45",
   "metadata": {},
   "outputs": [],
   "source": [
    "## If the item provides a preview image we can look at it in here using the following code\n",
    "\n",
    "#from IPython.display import Image\n",
    "#Image(url=url, width=500)"
   ]
  },
  {
   "cell_type": "markdown",
   "id": "ad1fcb60-620d-4567-bea6-65d1a87a7fd1",
   "metadata": {
    "tags": []
   },
   "source": [
    "### Search for Sentinel-2 data using bbox \n",
    "\n",
    "The second example makes use of the `bbox`, `datetime` and the `collections` parameters. Learn about the correct formatting of these values on the STAC Spec GitHub page or by looking at the [pystac-client docs](https://pystac-client.readthedocs.io/en/latest/api.html#item-search).\n",
    "\n",
    "This time we will convert geojson file into bbox coordinates."
   ]
  },
  {
   "cell_type": "code",
   "execution_count": null,
   "id": "9b846113-1452-4ec8-ade5-9c371595198e",
   "metadata": {},
   "outputs": [],
   "source": [
    "import geopandas as gpd\n",
    "import os\n",
    "from cscale_notebooks_functions import read_gdf, get_cloud_cover_ts\n",
    "from pystac_client import Client\n",
    "client = Client.open(\"https://mqs.eodc.eu/stac/v1\")\n",
    "path = os.path.abspath(\"\")"
   ]
  },
  {
   "cell_type": "code",
   "execution_count": null,
   "id": "5ad72dc5-6859-49e2-a1e4-41733cc26345",
   "metadata": {},
   "outputs": [],
   "source": [
    "# Read the geojson file with region coordinates and get bbox coordinates to accelerate search\n",
    "gejson_path = path + \"/geojson/prague_map.geojson\"\n",
    "bbox = read_gdf(gejson_path)\n",
    "bbox\n",
    "# Use geopandas for geojson file read - sometimes it gets error...\n",
    "#prague = geopandas.read_file(gejson_path)\n",
    "#bbox = prague.bounds.values.tolist()[0]"
   ]
  },
  {
   "cell_type": "code",
   "execution_count": null,
   "id": "6cecddef-b8df-49ce-8a06-f0c46aef58b2",
   "metadata": {},
   "outputs": [],
   "source": [
    "time_period = \"2022-01-01/2023-06-16\"\n",
    "limit = 1000\n",
    "print('Search time period: ' + time_period)"
   ]
  },
  {
   "cell_type": "markdown",
   "id": "42876554-59a2-414e-9a61-13a2c836bd96",
   "metadata": {},
   "source": [
    "We can put together all collections that contains desired region."
   ]
  },
  {
   "cell_type": "code",
   "execution_count": null,
   "id": "db427a5c-18ea-41c0-af61-ff599c364496",
   "metadata": {},
   "outputs": [],
   "source": [
    "# This is repeated in case one skips the previous code\n",
    "if 's2_collections' not in globals():\n",
    "    s2_collections = []\n",
    "    for collection in client.get_collections():\n",
    "        if \"l1c\" in collection.id.lower():\n",
    "            print(f\"Append collection {collection.id} to list of Sentinel-2 L1C collections.\")\n",
    "            s2_collections.append(collection.id)\n",
    "else:\n",
    "    print(f\"Selected collections already created in s2_collections variable.\")"
   ]
  },
  {
   "cell_type": "code",
   "execution_count": null,
   "id": "4f38d622-0165-419f-8776-c1ecee120196",
   "metadata": {},
   "outputs": [],
   "source": [
    "from IPython.display import HTML\n",
    "\n",
    "items_s2 = []\n",
    "items_s2dict = {}\n",
    "for collection in s2_collections:\n",
    "    results_s2 = client.search(collections=[collection], \n",
    "                            bbox=bbox, \n",
    "                            datetime=time_period, \n",
    "                            #limit=limit,\n",
    "                            method=\"GET\")\n",
    "    try:\n",
    "        items_s2.extend(results_s2.item_collection())\n",
    "        items_s2dict[f\"{collection}\"] = results_s2.item_collection()\n",
    "        error_message = f\"<font color='green'>Success:</font> items found in collection id {collection}.\"\n",
    "        display(HTML(error_message))\n",
    "        #print(f\"Search for items with collection id {collection} was succesfull.\")\n",
    "    except:\n",
    "        error_message = f\"<font color='red'>Failed:</font> items not found in collection id {collection}.\"\n",
    "        display(HTML(error_message))\n",
    "        \n",
    "print(f\"{len(items_s2)} matching items was found.\")"
   ]
  },
  {
   "cell_type": "markdown",
   "id": "7b79af62-c3c8-4abe-b59a-dc3db4974824",
   "metadata": {},
   "source": [
    "We can plot some parameters that are stored within these collections, e.g. cloud coverage over the selected area."
   ]
  },
  {
   "cell_type": "code",
   "execution_count": null,
   "id": "7f3c32dd-aa84-4c32-b4b3-8d745a7497e9",
   "metadata": {
    "tags": []
   },
   "outputs": [],
   "source": [
    "gpd_cloud = {}\n",
    "cloud_dict = {}\n",
    "\n",
    "for i in items_s2dict:\n",
    "    gpd_cloud[f\"{i}\"] = gpd.GeoDataFrame.from_features(items_s2dict[i])\n",
    "    cloud_dict[f\"{i}\"] = get_cloud_cover_ts(gpd_cloud[i])"
   ]
  },
  {
   "cell_type": "markdown",
   "id": "2dd0ab6c-5084-4e8b-a7ea-7626f826b71f",
   "metadata": {},
   "source": [
    "We can see the results just directly printed."
   ]
  },
  {
   "cell_type": "code",
   "execution_count": null,
   "id": "d12246db-a3b2-4cfe-b72c-c04d84c3ce61",
   "metadata": {},
   "outputs": [],
   "source": [
    "print(cloud_dict[\"CollGS_CZ|sentinel-2-l1c-2023\"])"
   ]
  },
  {
   "cell_type": "markdown",
   "id": "04573ed5-b5ff-4218-850b-9d2e2faf3cdb",
   "metadata": {},
   "source": [
    "We can plot the search results which is more convenient. "
   ]
  },
  {
   "cell_type": "code",
   "execution_count": null,
   "id": "8514bf91-6c82-447f-9ec1-41bd8a43494a",
   "metadata": {
    "tags": []
   },
   "outputs": [],
   "source": [
    "import plotly.express as px\n",
    "title = 'S2 Cloud Cover - Prague Region 2022/23'\n",
    "\n",
    "for i, item in enumerate(gpd_cloud):\n",
    "    fig = px.bar(gpd_cloud[item], x=\"datetime\", y=\"eo:cloud_cover\", title= title + ' [' + item + ']',\n",
    "                labels={\"datetime\": \"Date\",\n",
    "                     \"eo:cloud_cover\": \"Cloud coverage [%]\"})\n",
    "    fig.show()"
   ]
  },
  {
   "cell_type": "markdown",
   "id": "e39b8258-bede-4ca4-bd8f-f0107c5746b3",
   "metadata": {},
   "source": [
    "# Cloudless search\n",
    "Let's now focus on downloading particular region of interest with almost zero cloud coverage."
   ]
  },
  {
   "cell_type": "code",
   "execution_count": null,
   "id": "b26e9916-e99d-4195-84b2-821ae611a2fa",
   "metadata": {},
   "outputs": [],
   "source": [
    "import pandas as pd\n",
    "import geopandas as gpd\n",
    "import os\n",
    "from cscale_notebooks_functions import read_gdf\n",
    "from pystac_client import Client\n",
    "client = Client.open(\"https://mqs.eodc.eu/stac/v1\")\n",
    "path = os.path.abspath(\"\")"
   ]
  },
  {
   "cell_type": "code",
   "execution_count": null,
   "id": "1d12fdee-9633-43fc-bd8e-703044b79d88",
   "metadata": {},
   "outputs": [],
   "source": [
    "#Define collection and search parameters.\n",
    "time_period = \"2022-01-01/2023-06-16\"\n",
    "limit = 500\n",
    "# Get bbox coordinates to accelerate search\n",
    "#prague = geopandas.read_file(path + \"/geojson/prague_map.geojson\")\n",
    "#bbox = prague.bounds.values.tolist()[0]\n",
    "gejson_path = path + \"/geojson/prague_map.geojson\"\n",
    "bbox = read_gdf(gejson_path)\n",
    "\n",
    "results_2023 = client.search(collections=[\"CollGS_CZ|sentinel-2-l1c-2023\"], \n",
    "                            bbox=bbox, \n",
    "                            datetime=time_period,\n",
    "                            limit=limit,\n",
    "                            method=\"GET\")\n",
    "\n",
    "items_CollGS_CZ = results_2023.item_collection()\n",
    "\n",
    "print(f\"We found {len(items_CollGS_CZ)} matching items.\")"
   ]
  },
  {
   "cell_type": "markdown",
   "id": "50ae16e3-6ce6-4a61-b4f6-01d043825984",
   "metadata": {},
   "source": [
    "Find the lowest cloud coverage in the collection of the desired region of interest."
   ]
  },
  {
   "cell_type": "code",
   "execution_count": null,
   "id": "243a7570-d1bd-44a8-a635-3f04b7040ef7",
   "metadata": {},
   "outputs": [],
   "source": [
    "# Load items with cloud cover less than 1%\n",
    "items_cloud = []\n",
    "for n, item in enumerate(items_CollGS_CZ):\n",
    "    cloud_cover = item.properties.get(\"eo:cloud_cover\")\n",
    "    if cloud_cover < 1:\n",
    "        print(f\"Append item {item.id} with {cloud_cover:.2f}% cloud cover\")\n",
    "        items_cloud.append(item)"
   ]
  },
  {
   "cell_type": "markdown",
   "id": "fa01d7f4-0295-4308-84d1-73c078ad35c3",
   "metadata": {},
   "source": [
    "We can find dates of cloudless days."
   ]
  },
  {
   "cell_type": "code",
   "execution_count": null,
   "id": "ce478cc7-1257-40b7-9f6e-14dbf725d2c6",
   "metadata": {},
   "outputs": [],
   "source": [
    "import ipywidgets as widgets\n",
    "\n",
    "item_gpd = gpd.GeoDataFrame.from_features(items_cloud)\n",
    "p = widgets.Dropdown(\n",
    "    options= item_gpd.datetime,\n",
    "    description='Date:',\n",
    ")\n",
    "display(p)"
   ]
  },
  {
   "cell_type": "markdown",
   "id": "46b42ba2-d748-4865-9b8c-3940cc94ecc8",
   "metadata": {},
   "source": [
    "We can choose exact day we would like to download and visualize this particular satellite tile in the map and check its geographical position as well as the shape."
   ]
  },
  {
   "cell_type": "code",
   "execution_count": null,
   "id": "c2a254d6-0f98-4174-90f3-6a25a0f9b71f",
   "metadata": {},
   "outputs": [],
   "source": [
    "import plotly.express as px\n",
    "\n",
    "item_gpd = gpd.GeoDataFrame.from_features(items_cloud)\n",
    "item_choose = item_gpd[item_gpd.datetime.index[item_gpd.datetime.tolist().index(p.value)]:item_gpd.datetime.index[item_gpd.datetime.tolist().index(p.value)]+1]\n",
    "\n",
    "fig = px.choropleth_mapbox(item_choose,\n",
    "                   geojson=item_choose.geometry,\n",
    "                   locations=item_choose.index,\n",
    "                   #color=\"geometry\",\n",
    "                   )\n",
    "\n",
    "fig.update_layout(\n",
    "    mapbox=dict(\n",
    "        center=dict(lat=50, lon=15),  # Set the center to EU coordinates\n",
    "        style='open-street-map',\n",
    "        zoom=4, # Adjust the zoom level\n",
    "    ),\n",
    "    height=600,  # Set the height of the figure\n",
    "    width=1000,  # Set the width of the figure\n",
    ")\n",
    "fig.update_traces(marker_opacity=0.5)\n",
    "fig.show()"
   ]
  },
  {
   "cell_type": "markdown",
   "id": "3e3e060d-0c77-4236-90a3-3eb55b37458e",
   "metadata": {},
   "source": [
    "Saving image coordinates for later"
   ]
  },
  {
   "cell_type": "code",
   "execution_count": null,
   "id": "84e3c1c2-1570-46dd-b1dc-e94f6410aabd",
   "metadata": {},
   "outputs": [],
   "source": [
    "if os.path.isfile('single_polygon_coords.csv') == False:\n",
    "    single_polygon_coords = list(item_choose['geometry'].iloc[0].exterior.coords)\n",
    "    df = pd.DataFrame(single_polygon_coords, columns=['X', 'Y'])\n",
    "    df.to_csv('single_polygon_coords.csv', index=False)\n",
    "    print('File saved')\n",
    "else:\n",
    "    print('File already exists')"
   ]
  },
  {
   "cell_type": "markdown",
   "id": "eb47b84f-05e6-4388-961d-a6812486ee29",
   "metadata": {},
   "source": [
    "# Downloading images \n",
    "\n",
    "We can check the metadata in the browser."
   ]
  },
  {
   "cell_type": "code",
   "execution_count": null,
   "id": "b0891560-3178-458a-91c4-7ff6f5f5edfc",
   "metadata": {},
   "outputs": [],
   "source": [
    "from IPython.display import HTML\n",
    "import requests\n",
    "import json"
   ]
  },
  {
   "cell_type": "code",
   "execution_count": null,
   "id": "fd1b7d12-31f8-4be5-b918-6b54f92a4e35",
   "metadata": {},
   "outputs": [],
   "source": [
    "try:\n",
    "    print(f\"Look at this item in the STAC Browser: https://radiantearth.github.io/stac-browser/#/external/{items_cloud[item_gpd.datetime.index[item_gpd.datetime.tolist().index(p.value)]].get_self_href()}\")\n",
    "except NameError:\n",
    "    error_message = f\"<font color='red'>Error:</font> Image was not found - run the previous section first.\"\n",
    "    display(HTML(error_message))"
   ]
  },
  {
   "cell_type": "markdown",
   "id": "195fac4a-e4ff-4c8f-b04b-2b94696513f6",
   "metadata": {},
   "source": [
    "For downloading data, we need the URL and ACCESS TOKEN, which is ready in the notebook since logon. We can load it and check user info."
   ]
  },
  {
   "cell_type": "code",
   "execution_count": null,
   "id": "16dfa2ce-c644-4646-89b1-8127e0384abc",
   "metadata": {},
   "outputs": [],
   "source": [
    "access_token = open('/var/run/secrets/egi.eu/access_token').read()\n",
    "r = requests.get(\"https://aai.egi.eu/auth/realms/egi/protocol/openid-connect/userinfo\", headers={\"authorization\": \"Bearer {}\".format(access_token)}, stream=True)\n",
    "r"
   ]
  },
  {
   "cell_type": "markdown",
   "id": "8d5cc3cc-c8b7-40fc-9625-977c2d1cdb8f",
   "metadata": {},
   "source": [
    "We can check attributes. For convenience and to maintain privacy we will filter for those relevant to C-SCALE."
   ]
  },
  {
   "cell_type": "code",
   "execution_count": null,
   "id": "4c23438a-d49f-4c14-93ab-2a37ce10ca29",
   "metadata": {},
   "outputs": [],
   "source": [
    "print(json.dumps(json.loads(r.content), indent=2))"
   ]
  },
  {
   "cell_type": "markdown",
   "id": "7672007c-16b5-4bd1-b2a6-5cf3b233df2e",
   "metadata": {},
   "source": [
    "Now we can download all the data we need from the collection and save it."
   ]
  },
  {
   "cell_type": "code",
   "execution_count": null,
   "id": "509c30d4-288c-4763-9b66-0025c16bbe16",
   "metadata": {},
   "outputs": [],
   "source": [
    "TCI = requests.get(items_cloud[item_gpd.datetime.tolist().index(p.value)].assets[\"visual\"].href, headers={\"authorization\": \"Bearer {}\".format(open('/var/run/secrets/egi.eu/access_token').read())}, stream=False)"
   ]
  },
  {
   "cell_type": "code",
   "execution_count": null,
   "id": "a331af24-9002-4c9f-96e2-da818d558749",
   "metadata": {},
   "outputs": [],
   "source": [
    "# This creates folder where the image is stored. If folder exists, then nothing happens.\n",
    "from pathlib import Path\n",
    "img_folder = path + \"/images/jp2/\"\n",
    "if os.path.isdir(img_folder) != True:\n",
    "    Path(img_folder).mkdir(parents=True, exist_ok=True)"
   ]
  },
  {
   "cell_type": "code",
   "execution_count": null,
   "id": "ec20f5ed-2418-4591-9df4-90da773f4979",
   "metadata": {},
   "outputs": [],
   "source": [
    "img_name = \"TCI.jp2\"\n",
    "\n",
    "with open(img_folder + img_name, 'wb') as f:\n",
    "    f.write(TCI.content)"
   ]
  },
  {
   "cell_type": "markdown",
   "id": "978aeece-103f-4434-ba3b-6f4fbccbc4a9",
   "metadata": {},
   "source": [
    "For later analysis we might need some/all spectral bands that is provided together with RGB image. "
   ]
  },
  {
   "cell_type": "code",
   "execution_count": null,
   "id": "1c1b40b8-5d80-4914-8a57-76504df6a413",
   "metadata": {},
   "outputs": [],
   "source": [
    "# Preparing the list of desired bands to download\n",
    "band_list = []\n",
    "for i in range(2,13):\n",
    "    if i < 10:\n",
    "        band_list.append(\"B0\" + str(i))\n",
    "        if i == 8:\n",
    "            band_list.append(\"B8A\")\n",
    "    else:\n",
    "        band_list.append(\"B\" + str(i))\n",
    "band_list"
   ]
  },
  {
   "cell_type": "code",
   "execution_count": null,
   "id": "1391d51c-2f93-4bb1-8901-ff95a4a60d98",
   "metadata": {},
   "outputs": [],
   "source": [
    "# Saving the list of bands\n",
    "for band in band_list:\n",
    "    url = items_cloud[item_gpd.datetime.tolist().index(p.value)].assets[band].href\n",
    "    img = requests.get(url, headers={\"authorization\": \"Bearer {}\".format(open('/var/run/secrets/egi.eu/access_token').read())}, stream=False)\n",
    "    with open(img_folder + band +'.jp2', 'wb') as f:\n",
    "        f.write(img.content)\n",
    "print('All band images from the list saved in the folder: images')"
   ]
  },
  {
   "cell_type": "markdown",
   "id": "11fafb12-5ad5-47a5-ad09-0a5d5a623e43",
   "metadata": {},
   "source": [
    "We can see the satellite image tile with its original size and quality but it takes roughly 4 min!"
   ]
  },
  {
   "cell_type": "code",
   "execution_count": null,
   "id": "1f10b6fd-b6de-4010-8b90-808336934f3a",
   "metadata": {},
   "outputs": [],
   "source": [
    "%%time\n",
    "import rasterio\n",
    "from rasterio.plot import show\n",
    "\n",
    "tci = rasterio.open(img_folder + img_name, driver='JP2OpenJPEG');\n",
    "show(tci)"
   ]
  },
  {
   "cell_type": "code",
   "execution_count": null,
   "id": "5a8c04d3-e90e-4cfa-b0f1-edffcf4f263c",
   "metadata": {},
   "outputs": [],
   "source": []
  }
 ],
 "metadata": {
  "kernelspec": {
   "display_name": "Python 3 (ipykernel)",
   "language": "python",
   "name": "python3"
  },
  "language_info": {
   "codemirror_mode": {
    "name": "ipython",
    "version": 3
   },
   "file_extension": ".py",
   "mimetype": "text/x-python",
   "name": "python",
   "nbconvert_exporter": "python",
   "pygments_lexer": "ipython3",
   "version": "3.10.6"
  },
  "widgets": {
   "application/vnd.jupyter.widget-state+json": {
    "state": {},
    "version_major": 2,
    "version_minor": 0
   }
  }
 },
 "nbformat": 4,
 "nbformat_minor": 5
}
